{
  "nbformat": 4,
  "nbformat_minor": 0,
  "metadata": {
    "colab": {
      "name": "pro3_clustring.ipynb",
      "provenance": [],
      "collapsed_sections": [],
      "authorship_tag": "ABX9TyMcRnSKRB7ygmRW7yks3Zod",
      "include_colab_link": true
    },
    "kernelspec": {
      "name": "python3",
      "display_name": "Python 3"
    },
    "language_info": {
      "name": "python"
    }
  },
  "cells": [
    {
      "cell_type": "markdown",
      "metadata": {
        "id": "view-in-github",
        "colab_type": "text"
      },
      "source": [
        "<a href=\"https://colab.research.google.com/github/zolfaShefreie/StarsClustering/blob/main/pro3_clustring.ipynb\" target=\"_parent\"><img src=\"https://colab.research.google.com/assets/colab-badge.svg\" alt=\"Open In Colab\"/></a>"
      ]
    },
    {
      "cell_type": "code",
      "metadata": {
        "id": "XuU_uO3PPXgu"
      },
      "source": [
        "import pandas as pd\n",
        "import numpy as np\n"
      ],
      "execution_count": null,
      "outputs": []
    },
    {
      "cell_type": "code",
      "metadata": {
        "colab": {
          "base_uri": "https://localhost:8080/",
          "height": 423
        },
        "id": "7bJ0leoTg_pA",
        "outputId": "07b62b12-8dd2-4c05-f4f7-9d95cd2eee45"
      },
      "source": [
        "df = pd.read_csv('./Stars.csv')\n",
        "df"
      ],
      "execution_count": null,
      "outputs": [
        {
          "output_type": "execute_result",
          "data": {
            "text/html": [
              "<div>\n",
              "<style scoped>\n",
              "    .dataframe tbody tr th:only-of-type {\n",
              "        vertical-align: middle;\n",
              "    }\n",
              "\n",
              "    .dataframe tbody tr th {\n",
              "        vertical-align: top;\n",
              "    }\n",
              "\n",
              "    .dataframe thead th {\n",
              "        text-align: right;\n",
              "    }\n",
              "</style>\n",
              "<table border=\"1\" class=\"dataframe\">\n",
              "  <thead>\n",
              "    <tr style=\"text-align: right;\">\n",
              "      <th></th>\n",
              "      <th>Temperature</th>\n",
              "      <th>L</th>\n",
              "      <th>R</th>\n",
              "      <th>A_M</th>\n",
              "      <th>Color</th>\n",
              "      <th>Spectral_Class</th>\n",
              "      <th>Type</th>\n",
              "    </tr>\n",
              "  </thead>\n",
              "  <tbody>\n",
              "    <tr>\n",
              "      <th>0</th>\n",
              "      <td>3068</td>\n",
              "      <td>0.002400</td>\n",
              "      <td>0.1700</td>\n",
              "      <td>16.12</td>\n",
              "      <td>Red</td>\n",
              "      <td>M</td>\n",
              "      <td>0</td>\n",
              "    </tr>\n",
              "    <tr>\n",
              "      <th>1</th>\n",
              "      <td>3042</td>\n",
              "      <td>0.000500</td>\n",
              "      <td>0.1542</td>\n",
              "      <td>16.60</td>\n",
              "      <td>Red</td>\n",
              "      <td>M</td>\n",
              "      <td>0</td>\n",
              "    </tr>\n",
              "    <tr>\n",
              "      <th>2</th>\n",
              "      <td>2600</td>\n",
              "      <td>0.000300</td>\n",
              "      <td>0.1020</td>\n",
              "      <td>18.70</td>\n",
              "      <td>Red</td>\n",
              "      <td>M</td>\n",
              "      <td>0</td>\n",
              "    </tr>\n",
              "    <tr>\n",
              "      <th>3</th>\n",
              "      <td>2800</td>\n",
              "      <td>0.000200</td>\n",
              "      <td>0.1600</td>\n",
              "      <td>16.65</td>\n",
              "      <td>Red</td>\n",
              "      <td>M</td>\n",
              "      <td>0</td>\n",
              "    </tr>\n",
              "    <tr>\n",
              "      <th>4</th>\n",
              "      <td>1939</td>\n",
              "      <td>0.000138</td>\n",
              "      <td>0.1030</td>\n",
              "      <td>20.06</td>\n",
              "      <td>Red</td>\n",
              "      <td>M</td>\n",
              "      <td>0</td>\n",
              "    </tr>\n",
              "    <tr>\n",
              "      <th>...</th>\n",
              "      <td>...</td>\n",
              "      <td>...</td>\n",
              "      <td>...</td>\n",
              "      <td>...</td>\n",
              "      <td>...</td>\n",
              "      <td>...</td>\n",
              "      <td>...</td>\n",
              "    </tr>\n",
              "    <tr>\n",
              "      <th>235</th>\n",
              "      <td>38940</td>\n",
              "      <td>374830.000000</td>\n",
              "      <td>1356.0000</td>\n",
              "      <td>-9.93</td>\n",
              "      <td>Blue</td>\n",
              "      <td>O</td>\n",
              "      <td>5</td>\n",
              "    </tr>\n",
              "    <tr>\n",
              "      <th>236</th>\n",
              "      <td>30839</td>\n",
              "      <td>834042.000000</td>\n",
              "      <td>1194.0000</td>\n",
              "      <td>-10.63</td>\n",
              "      <td>Blue</td>\n",
              "      <td>O</td>\n",
              "      <td>5</td>\n",
              "    </tr>\n",
              "    <tr>\n",
              "      <th>237</th>\n",
              "      <td>8829</td>\n",
              "      <td>537493.000000</td>\n",
              "      <td>1423.0000</td>\n",
              "      <td>-10.73</td>\n",
              "      <td>White</td>\n",
              "      <td>A</td>\n",
              "      <td>5</td>\n",
              "    </tr>\n",
              "    <tr>\n",
              "      <th>238</th>\n",
              "      <td>9235</td>\n",
              "      <td>404940.000000</td>\n",
              "      <td>1112.0000</td>\n",
              "      <td>-11.23</td>\n",
              "      <td>White</td>\n",
              "      <td>A</td>\n",
              "      <td>5</td>\n",
              "    </tr>\n",
              "    <tr>\n",
              "      <th>239</th>\n",
              "      <td>37882</td>\n",
              "      <td>294903.000000</td>\n",
              "      <td>1783.0000</td>\n",
              "      <td>-7.80</td>\n",
              "      <td>Blue</td>\n",
              "      <td>O</td>\n",
              "      <td>5</td>\n",
              "    </tr>\n",
              "  </tbody>\n",
              "</table>\n",
              "<p>240 rows × 7 columns</p>\n",
              "</div>"
            ],
            "text/plain": [
              "     Temperature              L          R    A_M  Color Spectral_Class  Type\n",
              "0           3068       0.002400     0.1700  16.12    Red              M     0\n",
              "1           3042       0.000500     0.1542  16.60    Red              M     0\n",
              "2           2600       0.000300     0.1020  18.70    Red              M     0\n",
              "3           2800       0.000200     0.1600  16.65    Red              M     0\n",
              "4           1939       0.000138     0.1030  20.06    Red              M     0\n",
              "..           ...            ...        ...    ...    ...            ...   ...\n",
              "235        38940  374830.000000  1356.0000  -9.93   Blue              O     5\n",
              "236        30839  834042.000000  1194.0000 -10.63   Blue              O     5\n",
              "237         8829  537493.000000  1423.0000 -10.73  White              A     5\n",
              "238         9235  404940.000000  1112.0000 -11.23  White              A     5\n",
              "239        37882  294903.000000  1783.0000  -7.80   Blue              O     5\n",
              "\n",
              "[240 rows x 7 columns]"
            ]
          },
          "metadata": {
            "tags": []
          },
          "execution_count": 2397
        }
      ]
    },
    {
      "cell_type": "code",
      "metadata": {
        "colab": {
          "base_uri": "https://localhost:8080/",
          "height": 275
        },
        "id": "jqpGoUFDoNaO",
        "outputId": "ba3e04fb-e3d3-40bb-89aa-d9d5b88a2f1b"
      },
      "source": [
        "df.plot.scatter('A_M', 'Temperature', c=df['Type'], colormap='gist_rainbow')"
      ],
      "execution_count": null,
      "outputs": [
        {
          "output_type": "execute_result",
          "data": {
            "text/plain": [
              "<matplotlib.axes._subplots.AxesSubplot at 0x7f5b0fac3790>"
            ]
          },
          "metadata": {
            "tags": []
          },
          "execution_count": 2398
        },
        {
          "output_type": "display_data",
          "data": {
            "image/png": "[encoded data removed]",
            "text/plain": [
              "<Figure size 432x288 with 2 Axes>"
            ]
          },
          "metadata": {
            "tags": [],
            "needs_background": "light"
          }
        }
      ]
    },
    {
      "cell_type": "code",
      "metadata": {
        "colab": {
          "base_uri": "https://localhost:8080/",
          "height": 423
        },
        "id": "HLneJ6UAhzwp",
        "outputId": "1726a6cc-3d42-4336-a26c-730dc7083462"
      },
      "source": [
        "train_df = df[['Temperature', 'L', 'R', 'A_M', 'Color', 'Spectral_Class']]\n",
        "train_df"
      ],
      "execution_count": null,
      "outputs": [
        {
          "output_type": "execute_result",
          "data": {
            "text/html": [
              "<div>\n",
              "<style scoped>\n",
              "    .dataframe tbody tr th:only-of-type {\n",
              "        vertical-align: middle;\n",
              "    }\n",
              "\n",
              "    .dataframe tbody tr th {\n",
              "        vertical-align: top;\n",
              "    }\n",
              "\n",
              "    .dataframe thead th {\n",
              "        text-align: right;\n",
              "    }\n",
              "</style>\n",
              "<table border=\"1\" class=\"dataframe\">\n",
              "  <thead>\n",
              "    <tr style=\"text-align: right;\">\n",
              "      <th></th>\n",
              "      <th>Temperature</th>\n",
              "      <th>L</th>\n",
              "      <th>R</th>\n",
              "      <th>A_M</th>\n",
              "      <th>Color</th>\n",
              "      <th>Spectral_Class</th>\n",
              "    </tr>\n",
              "  </thead>\n",
              "  <tbody>\n",
              "    <tr>\n",
              "      <th>0</th>\n",
              "      <td>3068</td>\n",
              "      <td>0.002400</td>\n",
              "      <td>0.1700</td>\n",
              "      <td>16.12</td>\n",
              "      <td>Red</td>\n",
              "      <td>M</td>\n",
              "    </tr>\n",
              "    <tr>\n",
              "      <th>1</th>\n",
              "      <td>3042</td>\n",
              "      <td>0.000500</td>\n",
              "      <td>0.1542</td>\n",
              "      <td>16.60</td>\n",
              "      <td>Red</td>\n",
              "      <td>M</td>\n",
              "    </tr>\n",
              "    <tr>\n",
              "      <th>2</th>\n",
              "      <td>2600</td>\n",
              "      <td>0.000300</td>\n",
              "      <td>0.1020</td>\n",
              "      <td>18.70</td>\n",
              "      <td>Red</td>\n",
              "      <td>M</td>\n",
              "    </tr>\n",
              "    <tr>\n",
              "      <th>3</th>\n",
              "      <td>2800</td>\n",
              "      <td>0.000200</td>\n",
              "      <td>0.1600</td>\n",
              "      <td>16.65</td>\n",
              "      <td>Red</td>\n",
              "      <td>M</td>\n",
              "    </tr>\n",
              "    <tr>\n",
              "      <th>4</th>\n",
              "      <td>1939</td>\n",
              "      <td>0.000138</td>\n",
              "      <td>0.1030</td>\n",
              "      <td>20.06</td>\n",
              "      <td>Red</td>\n",
              "      <td>M</td>\n",
              "    </tr>\n",
              "    <tr>\n",
              "      <th>...</th>\n",
              "      <td>...</td>\n",
              "      <td>...</td>\n",
              "      <td>...</td>\n",
              "      <td>...</td>\n",
              "      <td>...</td>\n",
              "      <td>...</td>\n",
              "    </tr>\n",
              "    <tr>\n",
              "      <th>235</th>\n",
              "      <td>38940</td>\n",
              "      <td>374830.000000</td>\n",
              "      <td>1356.0000</td>\n",
              "      <td>-9.93</td>\n",
              "      <td>Blue</td>\n",
              "      <td>O</td>\n",
              "    </tr>\n",
              "    <tr>\n",
              "      <th>236</th>\n",
              "      <td>30839</td>\n",
              "      <td>834042.000000</td>\n",
              "      <td>1194.0000</td>\n",
              "      <td>-10.63</td>\n",
              "      <td>Blue</td>\n",
              "      <td>O</td>\n",
              "    </tr>\n",
              "    <tr>\n",
              "      <th>237</th>\n",
              "      <td>8829</td>\n",
              "      <td>537493.000000</td>\n",
              "      <td>1423.0000</td>\n",
              "      <td>-10.73</td>\n",
              "      <td>White</td>\n",
              "      <td>A</td>\n",
              "    </tr>\n",
              "    <tr>\n",
              "      <th>238</th>\n",
              "      <td>9235</td>\n",
              "      <td>404940.000000</td>\n",
              "      <td>1112.0000</td>\n",
              "      <td>-11.23</td>\n",
              "      <td>White</td>\n",
              "      <td>A</td>\n",
              "    </tr>\n",
              "    <tr>\n",
              "      <th>239</th>\n",
              "      <td>37882</td>\n",
              "      <td>294903.000000</td>\n",
              "      <td>1783.0000</td>\n",
              "      <td>-7.80</td>\n",
              "      <td>Blue</td>\n",
              "      <td>O</td>\n",
              "    </tr>\n",
              "  </tbody>\n",
              "</table>\n",
              "<p>240 rows × 6 columns</p>\n",
              "</div>"
            ],
            "text/plain": [
              "     Temperature              L          R    A_M  Color Spectral_Class\n",
              "0           3068       0.002400     0.1700  16.12    Red              M\n",
              "1           3042       0.000500     0.1542  16.60    Red              M\n",
              "2           2600       0.000300     0.1020  18.70    Red              M\n",
              "3           2800       0.000200     0.1600  16.65    Red              M\n",
              "4           1939       0.000138     0.1030  20.06    Red              M\n",
              "..           ...            ...        ...    ...    ...            ...\n",
              "235        38940  374830.000000  1356.0000  -9.93   Blue              O\n",
              "236        30839  834042.000000  1194.0000 -10.63   Blue              O\n",
              "237         8829  537493.000000  1423.0000 -10.73  White              A\n",
              "238         9235  404940.000000  1112.0000 -11.23  White              A\n",
              "239        37882  294903.000000  1783.0000  -7.80   Blue              O\n",
              "\n",
              "[240 rows x 6 columns]"
            ]
          },
          "metadata": {
            "tags": []
          },
          "execution_count": 2399
        }
      ]
    },
    {
      "cell_type": "code",
      "metadata": {
        "colab": {
          "base_uri": "https://localhost:8080/"
        },
        "id": "fa7EKGY5js_h",
        "outputId": "0ed91da2-e392-40f4-e5aa-91b18f967ddd"
      },
      "source": [
        "train_df['Color'].unique()"
      ],
      "execution_count": null,
      "outputs": [
        {
          "output_type": "execute_result",
          "data": {
            "text/plain": [
              "array(['Red', 'Blue White', 'White', 'Yellowish White', 'Blue white',\n",
              "       'Pale yellow orange', 'Blue', 'Blue-white', 'Whitish',\n",
              "       'yellow-white', 'Orange', 'White-Yellow', 'white', 'yellowish',\n",
              "       'Yellowish', 'Orange-Red', 'Blue-White'], dtype=object)"
            ]
          },
          "metadata": {
            "tags": []
          },
          "execution_count": 2400
        }
      ]
    },
    {
      "cell_type": "code",
      "metadata": {
        "colab": {
          "base_uri": "https://localhost:8080/"
        },
        "id": "DPWa9v6Wj1Zz",
        "outputId": "00a63216-375e-4027-9777-fc65c60fb10d"
      },
      "source": [
        "train_df['Spectral_Class'].unique()"
      ],
      "execution_count": null,
      "outputs": [
        {
          "output_type": "execute_result",
          "data": {
            "text/plain": [
              "array(['M', 'B', 'A', 'F', 'O', 'K', 'G'], dtype=object)"
            ]
          },
          "metadata": {
            "tags": []
          },
          "execution_count": 2401
        }
      ]
    },
    {
      "cell_type": "code",
      "metadata": {
        "colab": {
          "base_uri": "https://localhost:8080/"
        },
        "id": "iUdjtdVIk9sC",
        "outputId": "c130c23e-628f-4d7e-83f0-14a45b6056a4"
      },
      "source": [
        "from sklearn.preprocessing import LabelEncoder\n",
        "label_encoder = LabelEncoder()\n",
        "train_df['Color'] = label_encoder.fit_transform(train_df['Color'])\n",
        "train_df['Spectral_Class'] = label_encoder.fit_transform(train_df['Spectral_Class'])"
      ],
      "execution_count": null,
      "outputs": [
        {
          "output_type": "stream",
          "text": [
            "/usr/local/lib/python3.7/dist-packages/ipykernel_launcher.py:3: SettingWithCopyWarning: \n",
            "A value is trying to be set on a copy of a slice from a DataFrame.\n",
            "Try using .loc[row_indexer,col_indexer] = value instead\n",
            "\n",
            "See the caveats in the documentation: https://pandas.pydata.org/pandas-docs/stable/user_guide/indexing.html#returning-a-view-versus-a-copy\n",
            "  This is separate from the ipykernel package so we can avoid doing imports until\n",
            "/usr/local/lib/python3.7/dist-packages/ipykernel_launcher.py:4: SettingWithCopyWarning: \n",
            "A value is trying to be set on a copy of a slice from a DataFrame.\n",
            "Try using .loc[row_indexer,col_indexer] = value instead\n",
            "\n",
            "See the caveats in the documentation: https://pandas.pydata.org/pandas-docs/stable/user_guide/indexing.html#returning-a-view-versus-a-copy\n",
            "  after removing the cwd from sys.path.\n"
          ],
          "name": "stderr"
        }
      ]
    },
    {
      "cell_type": "code",
      "metadata": {
        "colab": {
          "base_uri": "https://localhost:8080/",
          "height": 423
        },
        "id": "Jx1oHH_nlekI",
        "outputId": "32908456-35d5-4b77-9d97-374359ac889d"
      },
      "source": [
        "train_df"
      ],
      "execution_count": null,
      "outputs": [
        {
          "output_type": "execute_result",
          "data": {
            "text/html": [
              "<div>\n",
              "<style scoped>\n",
              "    .dataframe tbody tr th:only-of-type {\n",
              "        vertical-align: middle;\n",
              "    }\n",
              "\n",
              "    .dataframe tbody tr th {\n",
              "        vertical-align: top;\n",
              "    }\n",
              "\n",
              "    .dataframe thead th {\n",
              "        text-align: right;\n",
              "    }\n",
              "</style>\n",
              "<table border=\"1\" class=\"dataframe\">\n",
              "  <thead>\n",
              "    <tr style=\"text-align: right;\">\n",
              "      <th></th>\n",
              "      <th>Temperature</th>\n",
              "      <th>L</th>\n",
              "      <th>R</th>\n",
              "      <th>A_M</th>\n",
              "      <th>Color</th>\n",
              "      <th>Spectral_Class</th>\n",
              "    </tr>\n",
              "  </thead>\n",
              "  <tbody>\n",
              "    <tr>\n",
              "      <th>0</th>\n",
              "      <td>3068</td>\n",
              "      <td>0.002400</td>\n",
              "      <td>0.1700</td>\n",
              "      <td>16.12</td>\n",
              "      <td>8</td>\n",
              "      <td>5</td>\n",
              "    </tr>\n",
              "    <tr>\n",
              "      <th>1</th>\n",
              "      <td>3042</td>\n",
              "      <td>0.000500</td>\n",
              "      <td>0.1542</td>\n",
              "      <td>16.60</td>\n",
              "      <td>8</td>\n",
              "      <td>5</td>\n",
              "    </tr>\n",
              "    <tr>\n",
              "      <th>2</th>\n",
              "      <td>2600</td>\n",
              "      <td>0.000300</td>\n",
              "      <td>0.1020</td>\n",
              "      <td>18.70</td>\n",
              "      <td>8</td>\n",
              "      <td>5</td>\n",
              "    </tr>\n",
              "    <tr>\n",
              "      <th>3</th>\n",
              "      <td>2800</td>\n",
              "      <td>0.000200</td>\n",
              "      <td>0.1600</td>\n",
              "      <td>16.65</td>\n",
              "      <td>8</td>\n",
              "      <td>5</td>\n",
              "    </tr>\n",
              "    <tr>\n",
              "      <th>4</th>\n",
              "      <td>1939</td>\n",
              "      <td>0.000138</td>\n",
              "      <td>0.1030</td>\n",
              "      <td>20.06</td>\n",
              "      <td>8</td>\n",
              "      <td>5</td>\n",
              "    </tr>\n",
              "    <tr>\n",
              "      <th>...</th>\n",
              "      <td>...</td>\n",
              "      <td>...</td>\n",
              "      <td>...</td>\n",
              "      <td>...</td>\n",
              "      <td>...</td>\n",
              "      <td>...</td>\n",
              "    </tr>\n",
              "    <tr>\n",
              "      <th>235</th>\n",
              "      <td>38940</td>\n",
              "      <td>374830.000000</td>\n",
              "      <td>1356.0000</td>\n",
              "      <td>-9.93</td>\n",
              "      <td>0</td>\n",
              "      <td>6</td>\n",
              "    </tr>\n",
              "    <tr>\n",
              "      <th>236</th>\n",
              "      <td>30839</td>\n",
              "      <td>834042.000000</td>\n",
              "      <td>1194.0000</td>\n",
              "      <td>-10.63</td>\n",
              "      <td>0</td>\n",
              "      <td>6</td>\n",
              "    </tr>\n",
              "    <tr>\n",
              "      <th>237</th>\n",
              "      <td>8829</td>\n",
              "      <td>537493.000000</td>\n",
              "      <td>1423.0000</td>\n",
              "      <td>-10.73</td>\n",
              "      <td>9</td>\n",
              "      <td>0</td>\n",
              "    </tr>\n",
              "    <tr>\n",
              "      <th>238</th>\n",
              "      <td>9235</td>\n",
              "      <td>404940.000000</td>\n",
              "      <td>1112.0000</td>\n",
              "      <td>-11.23</td>\n",
              "      <td>9</td>\n",
              "      <td>0</td>\n",
              "    </tr>\n",
              "    <tr>\n",
              "      <th>239</th>\n",
              "      <td>37882</td>\n",
              "      <td>294903.000000</td>\n",
              "      <td>1783.0000</td>\n",
              "      <td>-7.80</td>\n",
              "      <td>0</td>\n",
              "      <td>6</td>\n",
              "    </tr>\n",
              "  </tbody>\n",
              "</table>\n",
              "<p>240 rows × 6 columns</p>\n",
              "</div>"
            ],
            "text/plain": [
              "     Temperature              L          R    A_M  Color  Spectral_Class\n",
              "0           3068       0.002400     0.1700  16.12      8               5\n",
              "1           3042       0.000500     0.1542  16.60      8               5\n",
              "2           2600       0.000300     0.1020  18.70      8               5\n",
              "3           2800       0.000200     0.1600  16.65      8               5\n",
              "4           1939       0.000138     0.1030  20.06      8               5\n",
              "..           ...            ...        ...    ...    ...             ...\n",
              "235        38940  374830.000000  1356.0000  -9.93      0               6\n",
              "236        30839  834042.000000  1194.0000 -10.63      0               6\n",
              "237         8829  537493.000000  1423.0000 -10.73      9               0\n",
              "238         9235  404940.000000  1112.0000 -11.23      9               0\n",
              "239        37882  294903.000000  1783.0000  -7.80      0               6\n",
              "\n",
              "[240 rows x 6 columns]"
            ]
          },
          "metadata": {
            "tags": []
          },
          "execution_count": 2403
        }
      ]
    },
    {
      "cell_type": "code",
      "metadata": {
        "colab": {
          "base_uri": "https://localhost:8080/"
        },
        "id": "qDM2GEUmi0SR",
        "outputId": "2cb7a6b7-9959-4ba2-e717-be14a3ad36e6"
      },
      "source": [
        "from sklearn.cluster import KMeans\n",
        "model = KMeans(6)\n",
        "model.fit(train_df)"
      ],
      "execution_count": null,
      "outputs": [
        {
          "output_type": "execute_result",
          "data": {
            "text/plain": [
              "KMeans(algorithm='auto', copy_x=True, init='k-means++', max_iter=300,\n",
              "       n_clusters=6, n_init=10, n_jobs=None, precompute_distances='auto',\n",
              "       random_state=None, tol=0.0001, verbose=0)"
            ]
          },
          "metadata": {
            "tags": []
          },
          "execution_count": 2404
        }
      ]
    },
    {
      "cell_type": "code",
      "metadata": {
        "colab": {
          "base_uri": "https://localhost:8080/"
        },
        "id": "WGgAuP8kljMu",
        "outputId": "9555c776-b1a3-4bf8-af9e-e88b0d428fab"
      },
      "source": [
        "model.labels_"
      ],
      "execution_count": null,
      "outputs": [
        {
          "output_type": "execute_result",
          "data": {
            "text/plain": [
              "array([0, 0, 0, 0, 0, 0, 0, 0, 0, 0, 0, 0, 0, 0, 0, 0, 0, 0, 0, 0, 0, 0,\n",
              "       0, 0, 0, 0, 0, 0, 0, 0, 1, 0, 0, 0, 0, 0, 0, 0, 0, 0, 1, 4, 5, 1,\n",
              "       1, 4, 5, 1, 1, 1, 1, 1, 1, 2, 4, 1, 4, 5, 1, 1, 0, 0, 0, 0, 0, 0,\n",
              "       0, 0, 0, 0, 0, 0, 0, 0, 0, 0, 0, 0, 0, 0, 0, 0, 0, 0, 0, 0, 0, 0,\n",
              "       0, 0, 0, 0, 0, 0, 0, 0, 0, 0, 0, 1, 1, 3, 5, 1, 5, 1, 4, 1, 5, 4,\n",
              "       5, 5, 1, 5, 5, 5, 1, 5, 1, 1, 0, 0, 0, 0, 0, 0, 0, 0, 0, 0, 0, 0,\n",
              "       0, 0, 0, 0, 0, 0, 0, 0, 0, 0, 0, 0, 0, 0, 0, 0, 0, 0, 1, 0, 0, 0,\n",
              "       0, 0, 0, 0, 0, 1, 1, 1, 4, 1, 1, 5, 5, 1, 4, 4, 4, 5, 2, 4, 1, 5,\n",
              "       1, 5, 5, 1, 0, 0, 0, 0, 0, 0, 0, 0, 0, 0, 0, 0, 0, 0, 0, 0, 0, 0,\n",
              "       0, 0, 0, 0, 0, 0, 0, 0, 0, 0, 0, 0, 0, 0, 0, 0, 1, 5, 0, 0, 0, 0,\n",
              "       1, 4, 4, 2, 1, 1, 2, 3, 4, 3, 4, 1, 2, 3, 3, 4, 3, 2, 4, 4],\n",
              "      dtype=int32)"
            ]
          },
          "metadata": {
            "tags": []
          },
          "execution_count": 2405
        }
      ]
    },
    {
      "cell_type": "code",
      "metadata": {
        "colab": {
          "base_uri": "https://localhost:8080/"
        },
        "id": "h1CKk-L1D7yt",
        "outputId": "52812f5e-0559-4e76-a376-9ebc1ff32698"
      },
      "source": [
        "df['pre_type'] = model.labels_\n",
        "for i in range(6):\n",
        "  print(df[df['pre_type']==i].mode()['Type'][0], i)\n",
        "  df.loc[df.pre_type==i, 'pre_type'] = df[df['pre_type']==i].mode()['Type'][0]"
      ],
      "execution_count": null,
      "outputs": [
        {
          "output_type": "stream",
          "text": [
            "0.0 0\n",
            "4.0 1\n",
            "5.0 2\n",
            "4.0 3\n",
            "4.0 4\n",
            "5.0 5\n"
          ],
          "name": "stdout"
        }
      ]
    },
    {
      "cell_type": "code",
      "metadata": {
        "colab": {
          "base_uri": "https://localhost:8080/"
        },
        "id": "Bx0GaPbbmflU",
        "outputId": "ec74a6c7-a3ed-47fc-fb55-407feb39d41f"
      },
      "source": [
        "from sklearn.metrics import accuracy_score\n",
        "accuracy_score(df['Type'], df['pre_type'])"
      ],
      "execution_count": null,
      "outputs": [
        {
          "output_type": "execute_result",
          "data": {
            "text/plain": [
              "0.35833333333333334"
            ]
          },
          "metadata": {
            "tags": []
          },
          "execution_count": 2407
        }
      ]
    },
    {
      "cell_type": "code",
      "metadata": {
        "colab": {
          "base_uri": "https://localhost:8080/",
          "height": 275
        },
        "id": "wWca3ETSpxR1",
        "outputId": "cf6df024-5136-4367-8851-21480320f95b"
      },
      "source": [
        "df.plot.scatter('A_M', 'Temperature', c=df['pre_type'], colormap='gist_rainbow')"
      ],
      "execution_count": null,
      "outputs": [
        {
          "output_type": "execute_result",
          "data": {
            "text/plain": [
              "<matplotlib.axes._subplots.AxesSubplot at 0x7f5b0f824450>"
            ]
          },
          "metadata": {
            "tags": []
          },
          "execution_count": 2408
        },
        {
          "output_type": "display_data",
          "data": {
            "image/png": "[encoded data removed]",
            "text/plain": [
              "<Figure size 432x288 with 2 Axes>"
            ]
          },
          "metadata": {
            "tags": [],
            "needs_background": "light"
          }
        }
      ]
    },
    {
      "cell_type": "code",
      "metadata": {
        "colab": {
          "base_uri": "https://localhost:8080/"
        },
        "id": "cYOGV2h6qECy",
        "outputId": "14decf18-bdc5-4f7a-cc7d-9cbb37559cfb"
      },
      "source": [
        "from sklearn.cluster import AgglomerativeClustering\n",
        "\n",
        "cluster = AgglomerativeClustering(n_clusters=6, affinity='euclidean', linkage='ward')\n",
        "cluster.fit(train_df)"
      ],
      "execution_count": null,
      "outputs": [
        {
          "output_type": "execute_result",
          "data": {
            "text/plain": [
              "AgglomerativeClustering(affinity='euclidean', compute_full_tree='auto',\n",
              "                        connectivity=None, distance_threshold=None,\n",
              "                        linkage='ward', memory=None, n_clusters=6)"
            ]
          },
          "metadata": {
            "tags": []
          },
          "execution_count": 2409
        }
      ]
    },
    {
      "cell_type": "code",
      "metadata": {
        "colab": {
          "base_uri": "https://localhost:8080/"
        },
        "id": "cqZGew214pZ_",
        "outputId": "25b5fee0-fda7-43ce-ec57-34b73e884134"
      },
      "source": [
        "df['pre_type'] = cluster.labels_\n",
        "for i in range(6):\n",
        "  print(df[df['pre_type']==i].mode()['Type'][0], i)\n",
        "  df.loc[df.pre_type==i, 'pre_type'] = df[df['pre_type']==i].mode()['Type'][0]"
      ],
      "execution_count": null,
      "outputs": [
        {
          "output_type": "stream",
          "text": [
            "4.0 0\n",
            "4.0 1\n",
            "5.0 2\n",
            "0.0 3\n",
            "4.0 4\n",
            "5.0 5\n"
          ],
          "name": "stdout"
        }
      ]
    },
    {
      "cell_type": "code",
      "metadata": {
        "colab": {
          "base_uri": "https://localhost:8080/"
        },
        "id": "W4smjZBIqPuK",
        "outputId": "3ca0dee1-7d36-4c38-f399-4d030135fab3"
      },
      "source": [
        "accuracy_score(df['Type'], df['pre_type'])"
      ],
      "execution_count": null,
      "outputs": [
        {
          "output_type": "execute_result",
          "data": {
            "text/plain": [
              "0.35"
            ]
          },
          "metadata": {
            "tags": []
          },
          "execution_count": 2411
        }
      ]
    },
    {
      "cell_type": "code",
      "metadata": {
        "colab": {
          "base_uri": "https://localhost:8080/",
          "height": 275
        },
        "id": "hBcj0m5yqW8D",
        "outputId": "00e83088-cfd5-44c1-c5c2-56ea332b9b80"
      },
      "source": [
        "df.plot.scatter('A_M', 'Temperature', c=cluster.labels_, colormap='gist_rainbow')"
      ],
      "execution_count": null,
      "outputs": [
        {
          "output_type": "execute_result",
          "data": {
            "text/plain": [
              "<matplotlib.axes._subplots.AxesSubplot at 0x7f5b0f764610>"
            ]
          },
          "metadata": {
            "tags": []
          },
          "execution_count": 2412
        },
        {
          "output_type": "display_data",
          "data": {
            "image/png": "[encoded data removed]",
            "text/plain": [
              "<Figure size 432x288 with 2 Axes>"
            ]
          },
          "metadata": {
            "tags": [],
            "needs_background": "light"
          }
        }
      ]
    },
    {
      "cell_type": "markdown",
      "metadata": {
        "id": "l_116pXX8TA4"
      },
      "source": [
        "preprocess"
      ]
    },
    {
      "cell_type": "code",
      "metadata": {
        "id": "wVSHde82Zr_V"
      },
      "source": [
        "train_df = df[['Temperature', 'L', 'R', 'A_M', 'Color', 'Spectral_Class']]"
      ],
      "execution_count": null,
      "outputs": []
    },
    {
      "cell_type": "code",
      "metadata": {
        "colab": {
          "base_uri": "https://localhost:8080/"
        },
        "id": "RpBoFPfnpfJW",
        "outputId": "3d287d13-8ece-4244-bebe-afe83780dede"
      },
      "source": [
        "df['Color'].unique()"
      ],
      "execution_count": null,
      "outputs": [
        {
          "output_type": "execute_result",
          "data": {
            "text/plain": [
              "array(['Red', 'Blue White', 'White', 'Yellowish White', 'Blue white',\n",
              "       'Pale yellow orange', 'Blue', 'Blue-white', 'Whitish',\n",
              "       'yellow-white', 'Orange', 'White-Yellow', 'white', 'yellowish',\n",
              "       'Yellowish', 'Orange-Red', 'Blue-White'], dtype=object)"
            ]
          },
          "metadata": {
            "tags": []
          },
          "execution_count": 2434
        }
      ]
    },
    {
      "cell_type": "code",
      "metadata": {
        "colab": {
          "base_uri": "https://localhost:8080/"
        },
        "id": "GmlBoHqxZqn2",
        "outputId": "b8f8369f-c27a-44a1-e544-e291ef1f0f1a"
      },
      "source": [
        "train_df.loc[train_df.Color=='Blue White', 'Color'] = 'Blue-white'\n",
        "train_df.loc[train_df.Color=='Blue white', 'Color'] = 'Blue-white'\n",
        "train_df.loc[train_df.Color=='Blue-White', 'Color'] = 'Blue-white'\n",
        "train_df.loc[train_df.Color=='White-Yellow', 'Color'] = 'yellow-white'\n",
        "train_df.loc[train_df.Color=='White', 'Color'] = 'white'\n",
        "train_df.loc[train_df.Color=='yellowish', 'Color'] = 'Yellowish'\n",
        "train_df['Color'].unique()"
      ],
      "execution_count": null,
      "outputs": [
        {
          "output_type": "stream",
          "text": [
            "/usr/local/lib/python3.7/dist-packages/pandas/core/indexing.py:1763: SettingWithCopyWarning: \n",
            "A value is trying to be set on a copy of a slice from a DataFrame.\n",
            "Try using .loc[row_indexer,col_indexer] = value instead\n",
            "\n",
            "See the caveats in the documentation: https://pandas.pydata.org/pandas-docs/stable/user_guide/indexing.html#returning-a-view-versus-a-copy\n",
            "  isetter(loc, value)\n"
          ],
          "name": "stderr"
        },
        {
          "output_type": "execute_result",
          "data": {
            "text/plain": [
              "array(['Red', 'Blue-white', 'white', 'Yellowish White',\n",
              "       'Pale yellow orange', 'Blue', 'Whitish', 'yellow-white', 'Orange',\n",
              "       'Yellowish', 'Orange-Red'], dtype=object)"
            ]
          },
          "metadata": {
            "tags": []
          },
          "execution_count": 2414
        }
      ]
    },
    {
      "cell_type": "code",
      "metadata": {
        "colab": {
          "base_uri": "https://localhost:8080/"
        },
        "id": "HhRoOw6hark8",
        "outputId": "07cd2d47-9ccb-400c-acf6-fe4fa2172b53"
      },
      "source": [
        "from sklearn.preprocessing import LabelEncoder\n",
        "label_encoder = LabelEncoder()\n",
        "train_df['Color'] = label_encoder.fit_transform(train_df['Color'])\n",
        "train_df['Spectral_Class'] = label_encoder.fit_transform(train_df['Spectral_Class'])"
      ],
      "execution_count": null,
      "outputs": [
        {
          "output_type": "stream",
          "text": [
            "/usr/local/lib/python3.7/dist-packages/ipykernel_launcher.py:3: SettingWithCopyWarning: \n",
            "A value is trying to be set on a copy of a slice from a DataFrame.\n",
            "Try using .loc[row_indexer,col_indexer] = value instead\n",
            "\n",
            "See the caveats in the documentation: https://pandas.pydata.org/pandas-docs/stable/user_guide/indexing.html#returning-a-view-versus-a-copy\n",
            "  This is separate from the ipykernel package so we can avoid doing imports until\n",
            "/usr/local/lib/python3.7/dist-packages/ipykernel_launcher.py:4: SettingWithCopyWarning: \n",
            "A value is trying to be set on a copy of a slice from a DataFrame.\n",
            "Try using .loc[row_indexer,col_indexer] = value instead\n",
            "\n",
            "See the caveats in the documentation: https://pandas.pydata.org/pandas-docs/stable/user_guide/indexing.html#returning-a-view-versus-a-copy\n",
            "  after removing the cwd from sys.path.\n"
          ],
          "name": "stderr"
        }
      ]
    },
    {
      "cell_type": "code",
      "metadata": {
        "colab": {
          "base_uri": "https://localhost:8080/",
          "height": 423
        },
        "id": "Ln0AlL0MqgNg",
        "outputId": "579347e4-126b-4aa4-dfdb-4e6865964fa6"
      },
      "source": [
        "from sklearn.preprocessing import StandardScaler, normalize\n",
        "from sklearn.decomposition import PCA\n",
        "scaler = StandardScaler()\n",
        "train_df = pd.DataFrame(scaler.fit_transform(train_df[train_df.columns]))\n",
        "normalized_df = normalize(train_df[train_df.columns]) \n",
        "normalized_df = pd.DataFrame(normalized_df)\n",
        "train_df"
      ],
      "execution_count": null,
      "outputs": [
        {
          "output_type": "execute_result",
          "data": {
            "text/html": [
              "<div>\n",
              "<style scoped>\n",
              "    .dataframe tbody tr th:only-of-type {\n",
              "        vertical-align: middle;\n",
              "    }\n",
              "\n",
              "    .dataframe tbody tr th {\n",
              "        vertical-align: top;\n",
              "    }\n",
              "\n",
              "    .dataframe thead th {\n",
              "        text-align: right;\n",
              "    }\n",
              "</style>\n",
              "<table border=\"1\" class=\"dataframe\">\n",
              "  <thead>\n",
              "    <tr style=\"text-align: right;\">\n",
              "      <th></th>\n",
              "      <th>0</th>\n",
              "      <th>1</th>\n",
              "      <th>2</th>\n",
              "      <th>3</th>\n",
              "      <th>4</th>\n",
              "      <th>5</th>\n",
              "    </tr>\n",
              "  </thead>\n",
              "  <tbody>\n",
              "    <tr>\n",
              "      <th>0</th>\n",
              "      <td>-0.779382</td>\n",
              "      <td>-0.598624</td>\n",
              "      <td>-0.459210</td>\n",
              "      <td>1.116745</td>\n",
              "      <td>0.507684</td>\n",
              "      <td>0.595338</td>\n",
              "    </tr>\n",
              "    <tr>\n",
              "      <th>1</th>\n",
              "      <td>-0.782110</td>\n",
              "      <td>-0.598624</td>\n",
              "      <td>-0.459241</td>\n",
              "      <td>1.162414</td>\n",
              "      <td>0.507684</td>\n",
              "      <td>0.595338</td>\n",
              "    </tr>\n",
              "    <tr>\n",
              "      <th>2</th>\n",
              "      <td>-0.828477</td>\n",
              "      <td>-0.598624</td>\n",
              "      <td>-0.459342</td>\n",
              "      <td>1.362213</td>\n",
              "      <td>0.507684</td>\n",
              "      <td>0.595338</td>\n",
              "    </tr>\n",
              "    <tr>\n",
              "      <th>3</th>\n",
              "      <td>-0.807496</td>\n",
              "      <td>-0.598624</td>\n",
              "      <td>-0.459229</td>\n",
              "      <td>1.167171</td>\n",
              "      <td>0.507684</td>\n",
              "      <td>0.595338</td>\n",
              "    </tr>\n",
              "    <tr>\n",
              "      <th>4</th>\n",
              "      <td>-0.897819</td>\n",
              "      <td>-0.598624</td>\n",
              "      <td>-0.459340</td>\n",
              "      <td>1.491607</td>\n",
              "      <td>0.507684</td>\n",
              "      <td>0.595338</td>\n",
              "    </tr>\n",
              "    <tr>\n",
              "      <th>...</th>\n",
              "      <td>...</td>\n",
              "      <td>...</td>\n",
              "      <td>...</td>\n",
              "      <td>...</td>\n",
              "      <td>...</td>\n",
              "      <td>...</td>\n",
              "    </tr>\n",
              "    <tr>\n",
              "      <th>235</th>\n",
              "      <td>2.983743</td>\n",
              "      <td>1.494720</td>\n",
              "      <td>2.167974</td>\n",
              "      <td>-1.361718</td>\n",
              "      <td>-1.227988</td>\n",
              "      <td>1.074805</td>\n",
              "    </tr>\n",
              "    <tr>\n",
              "      <th>236</th>\n",
              "      <td>2.133913</td>\n",
              "      <td>4.059319</td>\n",
              "      <td>1.854068</td>\n",
              "      <td>-1.428317</td>\n",
              "      <td>-1.227988</td>\n",
              "      <td>1.074805</td>\n",
              "    </tr>\n",
              "    <tr>\n",
              "      <th>237</th>\n",
              "      <td>-0.175029</td>\n",
              "      <td>2.403157</td>\n",
              "      <td>2.297800</td>\n",
              "      <td>-1.437832</td>\n",
              "      <td>1.896222</td>\n",
              "      <td>-1.801997</td>\n",
              "    </tr>\n",
              "    <tr>\n",
              "      <th>238</th>\n",
              "      <td>-0.132438</td>\n",
              "      <td>1.662878</td>\n",
              "      <td>1.695177</td>\n",
              "      <td>-1.485403</td>\n",
              "      <td>1.896222</td>\n",
              "      <td>-1.801997</td>\n",
              "    </tr>\n",
              "    <tr>\n",
              "      <th>239</th>\n",
              "      <td>2.872754</td>\n",
              "      <td>1.048345</td>\n",
              "      <td>2.995370</td>\n",
              "      <td>-1.159064</td>\n",
              "      <td>-1.227988</td>\n",
              "      <td>1.074805</td>\n",
              "    </tr>\n",
              "  </tbody>\n",
              "</table>\n",
              "<p>240 rows × 6 columns</p>\n",
              "</div>"
            ],
            "text/plain": [
              "            0         1         2         3         4         5\n",
              "0   -0.779382 -0.598624 -0.459210  1.116745  0.507684  0.595338\n",
              "1   -0.782110 -0.598624 -0.459241  1.162414  0.507684  0.595338\n",
              "2   -0.828477 -0.598624 -0.459342  1.362213  0.507684  0.595338\n",
              "3   -0.807496 -0.598624 -0.459229  1.167171  0.507684  0.595338\n",
              "4   -0.897819 -0.598624 -0.459340  1.491607  0.507684  0.595338\n",
              "..        ...       ...       ...       ...       ...       ...\n",
              "235  2.983743  1.494720  2.167974 -1.361718 -1.227988  1.074805\n",
              "236  2.133913  4.059319  1.854068 -1.428317 -1.227988  1.074805\n",
              "237 -0.175029  2.403157  2.297800 -1.437832  1.896222 -1.801997\n",
              "238 -0.132438  1.662878  1.695177 -1.485403  1.896222 -1.801997\n",
              "239  2.872754  1.048345  2.995370 -1.159064 -1.227988  1.074805\n",
              "\n",
              "[240 rows x 6 columns]"
            ]
          },
          "metadata": {
            "tags": []
          },
          "execution_count": 2416
        }
      ]
    },
    {
      "cell_type": "code",
      "metadata": {
        "colab": {
          "base_uri": "https://localhost:8080/",
          "height": 423
        },
        "id": "xuxQFJ9fqb05",
        "outputId": "192ab933-80f1-4dd0-8bb4-d59fa2d5f0ee"
      },
      "source": [
        "normalized_df"
      ],
      "execution_count": null,
      "outputs": [
        {
          "output_type": "execute_result",
          "data": {
            "text/html": [
              "<div>\n",
              "<style scoped>\n",
              "    .dataframe tbody tr th:only-of-type {\n",
              "        vertical-align: middle;\n",
              "    }\n",
              "\n",
              "    .dataframe tbody tr th {\n",
              "        vertical-align: top;\n",
              "    }\n",
              "\n",
              "    .dataframe thead th {\n",
              "        text-align: right;\n",
              "    }\n",
              "</style>\n",
              "<table border=\"1\" class=\"dataframe\">\n",
              "  <thead>\n",
              "    <tr style=\"text-align: right;\">\n",
              "      <th></th>\n",
              "      <th>0</th>\n",
              "      <th>1</th>\n",
              "      <th>2</th>\n",
              "      <th>3</th>\n",
              "      <th>4</th>\n",
              "      <th>5</th>\n",
              "    </tr>\n",
              "  </thead>\n",
              "  <tbody>\n",
              "    <tr>\n",
              "      <th>0</th>\n",
              "      <td>-0.447304</td>\n",
              "      <td>-0.343563</td>\n",
              "      <td>-0.263550</td>\n",
              "      <td>0.640924</td>\n",
              "      <td>0.291371</td>\n",
              "      <td>0.341678</td>\n",
              "    </tr>\n",
              "    <tr>\n",
              "      <th>1</th>\n",
              "      <td>-0.441066</td>\n",
              "      <td>-0.337590</td>\n",
              "      <td>-0.258986</td>\n",
              "      <td>0.655537</td>\n",
              "      <td>0.286306</td>\n",
              "      <td>0.335738</td>\n",
              "    </tr>\n",
              "    <tr>\n",
              "      <th>2</th>\n",
              "      <td>-0.429343</td>\n",
              "      <td>-0.310225</td>\n",
              "      <td>-0.238045</td>\n",
              "      <td>0.705941</td>\n",
              "      <td>0.263098</td>\n",
              "      <td>0.308523</td>\n",
              "    </tr>\n",
              "    <tr>\n",
              "      <th>3</th>\n",
              "      <td>-0.451704</td>\n",
              "      <td>-0.334863</td>\n",
              "      <td>-0.256888</td>\n",
              "      <td>0.652902</td>\n",
              "      <td>0.283993</td>\n",
              "      <td>0.333025</td>\n",
              "    </tr>\n",
              "    <tr>\n",
              "      <th>4</th>\n",
              "      <td>-0.437441</td>\n",
              "      <td>-0.291665</td>\n",
              "      <td>-0.223802</td>\n",
              "      <td>0.726750</td>\n",
              "      <td>0.247357</td>\n",
              "      <td>0.290065</td>\n",
              "    </tr>\n",
              "    <tr>\n",
              "      <th>...</th>\n",
              "      <td>...</td>\n",
              "      <td>...</td>\n",
              "      <td>...</td>\n",
              "      <td>...</td>\n",
              "      <td>...</td>\n",
              "      <td>...</td>\n",
              "    </tr>\n",
              "    <tr>\n",
              "      <th>235</th>\n",
              "      <td>0.661350</td>\n",
              "      <td>0.331307</td>\n",
              "      <td>0.480534</td>\n",
              "      <td>-0.301826</td>\n",
              "      <td>-0.272185</td>\n",
              "      <td>0.238232</td>\n",
              "    </tr>\n",
              "    <tr>\n",
              "      <th>236</th>\n",
              "      <td>0.395085</td>\n",
              "      <td>0.751565</td>\n",
              "      <td>0.343272</td>\n",
              "      <td>-0.264447</td>\n",
              "      <td>-0.227357</td>\n",
              "      <td>0.198995</td>\n",
              "    </tr>\n",
              "    <tr>\n",
              "      <th>237</th>\n",
              "      <td>-0.039142</td>\n",
              "      <td>0.537417</td>\n",
              "      <td>0.513856</td>\n",
              "      <td>-0.321542</td>\n",
              "      <td>0.424052</td>\n",
              "      <td>-0.402980</td>\n",
              "    </tr>\n",
              "    <tr>\n",
              "      <th>238</th>\n",
              "      <td>-0.034536</td>\n",
              "      <td>0.433630</td>\n",
              "      <td>0.442052</td>\n",
              "      <td>-0.387349</td>\n",
              "      <td>0.494479</td>\n",
              "      <td>-0.469908</td>\n",
              "    </tr>\n",
              "    <tr>\n",
              "      <th>239</th>\n",
              "      <td>0.607923</td>\n",
              "      <td>0.221847</td>\n",
              "      <td>0.633870</td>\n",
              "      <td>-0.245277</td>\n",
              "      <td>-0.259863</td>\n",
              "      <td>0.227447</td>\n",
              "    </tr>\n",
              "  </tbody>\n",
              "</table>\n",
              "<p>240 rows × 6 columns</p>\n",
              "</div>"
            ],
            "text/plain": [
              "            0         1         2         3         4         5\n",
              "0   -0.447304 -0.343563 -0.263550  0.640924  0.291371  0.341678\n",
              "1   -0.441066 -0.337590 -0.258986  0.655537  0.286306  0.335738\n",
              "2   -0.429343 -0.310225 -0.238045  0.705941  0.263098  0.308523\n",
              "3   -0.451704 -0.334863 -0.256888  0.652902  0.283993  0.333025\n",
              "4   -0.437441 -0.291665 -0.223802  0.726750  0.247357  0.290065\n",
              "..        ...       ...       ...       ...       ...       ...\n",
              "235  0.661350  0.331307  0.480534 -0.301826 -0.272185  0.238232\n",
              "236  0.395085  0.751565  0.343272 -0.264447 -0.227357  0.198995\n",
              "237 -0.039142  0.537417  0.513856 -0.321542  0.424052 -0.402980\n",
              "238 -0.034536  0.433630  0.442052 -0.387349  0.494479 -0.469908\n",
              "239  0.607923  0.221847  0.633870 -0.245277 -0.259863  0.227447\n",
              "\n",
              "[240 rows x 6 columns]"
            ]
          },
          "metadata": {
            "tags": []
          },
          "execution_count": 2436
        }
      ]
    },
    {
      "cell_type": "code",
      "metadata": {
        "id": "fiB1VlqSfPNe"
      },
      "source": [
        "# pca = PCA(n_components = 2) \n",
        "# X_principal = pca.fit_transform(normalized_df) \n",
        "# train_df2 = pd.DataFrame(X_principal)"
      ],
      "execution_count": null,
      "outputs": []
    },
    {
      "cell_type": "code",
      "metadata": {
        "colab": {
          "base_uri": "https://localhost:8080/"
        },
        "id": "s-rUXwkS9hZw",
        "outputId": "2e932c96-09bf-41a1-9f2d-7bf088e1d105"
      },
      "source": [
        "from sklearn.cluster import KMeans\n",
        "model = KMeans(n_clusters=6, max_iter=500)\n",
        "model.fit(normalized_df)"
      ],
      "execution_count": null,
      "outputs": [
        {
          "output_type": "execute_result",
          "data": {
            "text/plain": [
              "KMeans(algorithm='auto', copy_x=True, init='k-means++', max_iter=500,\n",
              "       n_clusters=6, n_init=10, n_jobs=None, precompute_distances='auto',\n",
              "       random_state=None, tol=0.0001, verbose=0)"
            ]
          },
          "metadata": {
            "tags": []
          },
          "execution_count": 2418
        }
      ]
    },
    {
      "cell_type": "code",
      "metadata": {
        "colab": {
          "base_uri": "https://localhost:8080/"
        },
        "id": "RvorN9ljHmoc",
        "outputId": "00fb098e-fc15-4222-8683-2ce143b7b9df"
      },
      "source": [
        "df['pre_type'] = model.labels_\n",
        "for i in range(6):\n",
        "  print(df[df['pre_type']==i].mode()['Type'][0], i)\n",
        "  df.loc[df.pre_type==i, 'pre_type'] = df[df['pre_type']==i].mode()['Type'][0]"
      ],
      "execution_count": null,
      "outputs": [
        {
          "output_type": "stream",
          "text": [
            "2.0 0\n",
            "5.0 1\n",
            "2.0 2\n",
            "0.0 3\n",
            "4.0 4\n",
            "5.0 5\n"
          ],
          "name": "stdout"
        }
      ]
    },
    {
      "cell_type": "code",
      "metadata": {
        "colab": {
          "base_uri": "https://localhost:8080/"
        },
        "id": "wbmkkAyK9mCq",
        "outputId": "8ba84556-c32c-437e-9669-29813b03dbe7"
      },
      "source": [
        "accuracy_score(df['Type'], df['pre_type'])"
      ],
      "execution_count": null,
      "outputs": [
        {
          "output_type": "execute_result",
          "data": {
            "text/plain": [
              "0.6"
            ]
          },
          "metadata": {
            "tags": []
          },
          "execution_count": 2420
        }
      ]
    },
    {
      "cell_type": "code",
      "metadata": {
        "colab": {
          "base_uri": "https://localhost:8080/",
          "height": 275
        },
        "id": "bk9lEc7U9rxi",
        "outputId": "ad6d5cc7-4412-4cdc-eebe-b48e11a76c28"
      },
      "source": [
        "df.plot.scatter('A_M', 'Temperature', c=df['pre_type'], colormap='gist_rainbow')"
      ],
      "execution_count": null,
      "outputs": [
        {
          "output_type": "execute_result",
          "data": {
            "text/plain": [
              "<matplotlib.axes._subplots.AxesSubplot at 0x7f5b0f6aae10>"
            ]
          },
          "metadata": {
            "tags": []
          },
          "execution_count": 2421
        },
        {
          "output_type": "display_data",
          "data": {
            "image/png": "[encoded data removed]",
            "text/plain": [
              "<Figure size 432x288 with 2 Axes>"
            ]
          },
          "metadata": {
            "tags": [],
            "needs_background": "light"
          }
        }
      ]
    },
    {
      "cell_type": "code",
      "metadata": {
        "colab": {
          "base_uri": "https://localhost:8080/",
          "height": 423
        },
        "id": "tFFQDcbGE8UO",
        "outputId": "116c5c37-803f-4ee2-d7d5-d9fb60d8f802"
      },
      "source": [
        "pca = PCA(n_components = 2) \n",
        "X_principal = pca.fit_transform(train_df) \n",
        "train_df2 = pd.DataFrame(X_principal) \n",
        "train_df2"
      ],
      "execution_count": null,
      "outputs": [
        {
          "output_type": "execute_result",
          "data": {
            "text/html": [
              "<div>\n",
              "<style scoped>\n",
              "    .dataframe tbody tr th:only-of-type {\n",
              "        vertical-align: middle;\n",
              "    }\n",
              "\n",
              "    .dataframe tbody tr th {\n",
              "        vertical-align: top;\n",
              "    }\n",
              "\n",
              "    .dataframe thead th {\n",
              "        text-align: right;\n",
              "    }\n",
              "</style>\n",
              "<table border=\"1\" class=\"dataframe\">\n",
              "  <thead>\n",
              "    <tr style=\"text-align: right;\">\n",
              "      <th></th>\n",
              "      <th>0</th>\n",
              "      <th>1</th>\n",
              "    </tr>\n",
              "  </thead>\n",
              "  <tbody>\n",
              "    <tr>\n",
              "      <th>0</th>\n",
              "      <td>-1.535978</td>\n",
              "      <td>0.444912</td>\n",
              "    </tr>\n",
              "    <tr>\n",
              "      <th>1</th>\n",
              "      <td>-1.561258</td>\n",
              "      <td>0.439554</td>\n",
              "    </tr>\n",
              "    <tr>\n",
              "      <th>2</th>\n",
              "      <td>-1.685800</td>\n",
              "      <td>0.433878</td>\n",
              "    </tr>\n",
              "    <tr>\n",
              "      <th>3</th>\n",
              "      <td>-1.574058</td>\n",
              "      <td>0.451943</td>\n",
              "    </tr>\n",
              "    <tr>\n",
              "      <th>4</th>\n",
              "      <td>-1.782361</td>\n",
              "      <td>0.450499</td>\n",
              "    </tr>\n",
              "    <tr>\n",
              "      <th>...</th>\n",
              "      <td>...</td>\n",
              "      <td>...</td>\n",
              "    </tr>\n",
              "    <tr>\n",
              "      <th>235</th>\n",
              "      <td>4.056835</td>\n",
              "      <td>-0.111233</td>\n",
              "    </tr>\n",
              "    <tr>\n",
              "      <th>236</th>\n",
              "      <td>4.954114</td>\n",
              "      <td>0.746288</td>\n",
              "    </tr>\n",
              "    <tr>\n",
              "      <th>237</th>\n",
              "      <td>1.932035</td>\n",
              "      <td>1.825395</td>\n",
              "    </tr>\n",
              "    <tr>\n",
              "      <th>238</th>\n",
              "      <td>1.367593</td>\n",
              "      <td>1.387661</td>\n",
              "    </tr>\n",
              "    <tr>\n",
              "      <th>239</th>\n",
              "      <td>3.982968</td>\n",
              "      <td>0.184265</td>\n",
              "    </tr>\n",
              "  </tbody>\n",
              "</table>\n",
              "<p>240 rows × 2 columns</p>\n",
              "</div>"
            ],
            "text/plain": [
              "            0         1\n",
              "0   -1.535978  0.444912\n",
              "1   -1.561258  0.439554\n",
              "2   -1.685800  0.433878\n",
              "3   -1.574058  0.451943\n",
              "4   -1.782361  0.450499\n",
              "..        ...       ...\n",
              "235  4.056835 -0.111233\n",
              "236  4.954114  0.746288\n",
              "237  1.932035  1.825395\n",
              "238  1.367593  1.387661\n",
              "239  3.982968  0.184265\n",
              "\n",
              "[240 rows x 2 columns]"
            ]
          },
          "metadata": {
            "tags": []
          },
          "execution_count": 2430
        }
      ]
    },
    {
      "cell_type": "code",
      "metadata": {
        "colab": {
          "base_uri": "https://localhost:8080/"
        },
        "id": "UU0OyJrO-gSs",
        "outputId": "8031ac05-868a-4764-86eb-6fa1db23dd28"
      },
      "source": [
        "from sklearn.cluster import AgglomerativeClustering\n",
        "\n",
        "cluster = AgglomerativeClustering(n_clusters=6, affinity='euclidean', linkage='ward')\n",
        "cluster.fit(train_df2)"
      ],
      "execution_count": null,
      "outputs": [
        {
          "output_type": "execute_result",
          "data": {
            "text/plain": [
              "AgglomerativeClustering(affinity='euclidean', compute_full_tree='auto',\n",
              "                        connectivity=None, distance_threshold=None,\n",
              "                        linkage='ward', memory=None, n_clusters=6)"
            ]
          },
          "metadata": {
            "tags": []
          },
          "execution_count": 2431
        }
      ]
    },
    {
      "cell_type": "code",
      "metadata": {
        "colab": {
          "base_uri": "https://localhost:8080/"
        },
        "id": "WjFmMo8tJxoJ",
        "outputId": "f6e9f158-5791-4302-f4c4-d709b89baeae"
      },
      "source": [
        "df['pre_type'] = cluster.labels_\n",
        "for i in range(6):\n",
        "  print(df[df['pre_type']==i].mode()['Type'][0], i)\n",
        "  df.loc[df.pre_type==i, 'pre_type'] = df[df['pre_type']==i].mode()['Type'][0]"
      ],
      "execution_count": null,
      "outputs": [
        {
          "output_type": "stream",
          "text": [
            "4.0 0\n",
            "5.0 1\n",
            "2.0 2\n",
            "0.0 3\n",
            "4.0 4\n",
            "5.0 5\n"
          ],
          "name": "stdout"
        }
      ]
    },
    {
      "cell_type": "code",
      "metadata": {
        "colab": {
          "base_uri": "https://localhost:8080/"
        },
        "id": "SLMP_hTT-tdf",
        "outputId": "fcafe201-748d-4de2-a40b-52ab37aabf77"
      },
      "source": [
        "accuracy_score(df['Type'], df['pre_type'])"
      ],
      "execution_count": null,
      "outputs": [
        {
          "output_type": "execute_result",
          "data": {
            "text/plain": [
              "0.45"
            ]
          },
          "metadata": {
            "tags": []
          },
          "execution_count": 2433
        }
      ]
    }
  ]
}